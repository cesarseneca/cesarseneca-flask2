{
    "cells": [
        {
            "cell_type": "code",
            "execution_count": 2,
            "metadata": {},
            "outputs": [
                {
                    "name": "stdout",
                    "output_type": "stream",
                    "text": [
                        "Columna: Pregnancies\n",
                        "Valor Máximo: 15.0\n",
                        "Valor Mínimo: 0.0\n",
                        "------------------------------\n",
                        "Columna: Glucose\n",
                        "Valor Máximo: 198.0\n",
                        "Valor Mínimo: 44.0\n",
                        "------------------------------\n",
                        "Columna: BloodPressure\n",
                        "Valor Máximo: 122.0\n",
                        "Valor Mínimo: 44.0\n",
                        "------------------------------\n",
                        "Columna: SkinThickness\n",
                        "Valor Máximo: 32.0\n",
                        "Valor Mínimo: 0.0\n",
                        "------------------------------\n",
                        "Columna: Insulin\n",
                        "Valor Máximo: 846.0\n",
                        "Valor Mínimo: 0.0\n",
                        "------------------------------\n",
                        "Columna: BMI\n",
                        "Valor Máximo: 52.9\n",
                        "Valor Mínimo: 18.2\n",
                        "------------------------------\n",
                        "Columna: DiabetesPedigreeFunction\n",
                        "Valor Máximo: 1.781\n",
                        "Valor Mínimo: 0.078\n",
                        "------------------------------\n",
                        "Columna: Age\n",
                        "Valor Máximo: 70.0\n",
                        "Valor Mínimo: 21.0\n",
                        "------------------------------\n",
                        "Columna: Outcome\n",
                        "Valor Máximo: 1.0\n",
                        "Valor Mínimo: 0.0\n",
                        "------------------------------\n"
                    ]
                }
            ],
            "source": [
                "import pandas as pd\n",
                "df = pd.read_csv(\"data.csv\")\n",
                "max_values = df.max()\n",
                "min_values = df.min()\n",
                "\n",
                "# Imprimir información sobre los valores máximos y mínimos\n",
                "for column in df.columns:\n",
                "    print(f\"Columna: {column}\")\n",
                "    print(f\"Valor Máximo: {max_values[column]}\")\n",
                "    print(f\"Valor Mínimo: {min_values[column]}\")\n",
                "    print(\"-\" * 30)"
            ]
        }
    ],
    "metadata": {
        "kernelspec": {
            "display_name": "Python 3.8.13 64-bit ('3.8.13')",
            "language": "python",
            "name": "python3"
        },
        "language_info": {
            "codemirror_mode": {
                "name": "ipython",
                "version": 3
            },
            "file_extension": ".py",
            "mimetype": "text/x-python",
            "name": "python",
            "nbconvert_exporter": "python",
            "pygments_lexer": "ipython3",
            "version": "3.11.4"
        },
        "orig_nbformat": 4,
        "vscode": {
            "interpreter": {
                "hash": "110cc1dee26208153f2972f08a2ad52b6a56238dc66d48e87fb757ef2996db56"
            }
        }
    },
    "nbformat": 4,
    "nbformat_minor": 2
}
